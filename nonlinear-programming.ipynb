{
 "cells": [
  {
   "cell_type": "markdown",
   "id": "41ff3089",
   "metadata": {
    "papermill": {
     "duration": 0.002961,
     "end_time": "2022-08-13T07:21:42.498147",
     "exception": false,
     "start_time": "2022-08-13T07:21:42.495186",
     "status": "completed"
    },
    "tags": []
   },
   "source": [
    "# Example\n",
    "<center>$\\min f(x)=a * x_{1}^{2}+b * x_{2}^{2}+c * x_{3}^{2}+d$\n",
    "    <center>s.t.: $\\left\\{\\begin{array}{l}x_{1}^{2}-x_{2}+x_{3}^{2} \\geq 0 \\\\ x_{1}+x_{2}^{2}+x_{3}^{3} \\leq 20 \\\\ -x_{1}-x_{2}^{2}+2=0 \\\\ x_{2}+2 x_{3}^{2}=3 \\\\ x_{1}, x_{2}, x_{3} \\geq 0\\end{array}\\right.$</center></center>\n",
    "Then we have to convert it to the following equation\n",
    "<center>$\\min f(x)=a * x_{1}^{2}+b * x_{2}^{2}+c * x_{3}^{2}+d$\n",
    "    <center>s.t.: $\\left\\{\\begin{array}{l}x_{1}^{2}-x_{2}+x_{3}^{2} \\geq 0 \\\\ -\\left(x_{1}+x_{2}^{2}+x_{3}^{3}-20\\right) \\geq 0 \\\\ -x_{1}-x_{2}^{2}+2=0 \\\\ x_{2}+2 x_{3}^{2}-3=0 \\\\ x_{1}, x_{2}, x_{3} \\geq 0\\end{array}\\right.$</center></center>\n"
   ]
  },
  {
   "cell_type": "code",
   "execution_count": 1,
   "id": "4b4dd261",
   "metadata": {
    "execution": {
     "iopub.execute_input": "2022-08-13T07:21:42.503694Z",
     "iopub.status.busy": "2022-08-13T07:21:42.503246Z",
     "iopub.status.idle": "2022-08-13T07:21:43.037990Z",
     "shell.execute_reply": "2022-08-13T07:21:43.037155Z"
    },
    "papermill": {
     "duration": 0.541749,
     "end_time": "2022-08-13T07:21:43.041701",
     "exception": false,
     "start_time": "2022-08-13T07:21:42.499952",
     "status": "completed"
    },
    "tags": []
   },
   "outputs": [
    {
     "name": "stdout",
     "output_type": "stream",
     "text": [
      "Optimization problem (res2):\tOptimization terminated successfully\n",
      "xOpt = [0.6743061  1.15138781 0.96140839]\n",
      "min f(x) = 13.8790\n"
     ]
    }
   ],
   "source": [
    "from scipy.optimize import brent, fmin, minimize\n",
    "import numpy as np\n",
    "\n",
    "def objF6(args):\n",
    "    a,b,c,d = args\n",
    "    fx = lambda x: a*x[0]**2 + b*x[1]**2 + c*x[2]**2 + d\n",
    "    return fx\n",
    "\n",
    "def constraint2(args):\n",
    "    xmin0, xmin1, xmin2 = args\n",
    "    cons = ({'type': 'ineq', 'fun': lambda x: (x[0]**2 - x[1] + x[2]**2)}, \n",
    "            {'type': 'ineq', 'fun': lambda x: -(x[0] + x[1]**2 + x[2]**3 - 20)},  \n",
    "            {'type': 'eq', 'fun': lambda x: (-x[0] - x[1]**2 + 2)}, \n",
    "            {'type': 'eq', 'fun': lambda x: (x[1] + 2*x[2]**2 - 3)},  \n",
    "            {'type': 'ineq', 'fun': lambda x: (x[0] - xmin0)},  # x0 >= xmin0\n",
    "            {'type': 'ineq', 'fun': lambda x: (x[1] - xmin1)},  # x1 >= xmin1\n",
    "            {'type': 'ineq', 'fun': lambda x: (x[2] - xmin2)})  # x2 >= xmin2\n",
    "    return cons\n",
    "\n",
    "args1 = (1,2,3,8)  \n",
    "args2 = (0.0, 0.0, 0.0)  # xmin0, xmin1, xmin2\n",
    "cons2 = constraint2(args2)\n",
    "\n",
    "x0 = np.array([1., 2., 3.])  \n",
    "res2 = minimize(objF6(args1), x0, method='SLSQP', constraints=cons2)\n",
    "\n",
    "print(\"Optimization problem (res2):\\t{}\".format(res2.message))  \n",
    "print(\"xOpt = {}\".format(res2.x))  \n",
    "print(\"min f(x) = {:.4f}\".format(res2.fun))  \n"
   ]
  }
 ],
 "metadata": {
  "kernelspec": {
   "display_name": "Python 3",
   "language": "python",
   "name": "python3"
  },
  "language_info": {
   "codemirror_mode": {
    "name": "ipython",
    "version": 3
   },
   "file_extension": ".py",
   "mimetype": "text/x-python",
   "name": "python",
   "nbconvert_exporter": "python",
   "pygments_lexer": "ipython3",
   "version": "3.7.12"
  },
  "papermill": {
   "default_parameters": {},
   "duration": 10.413584,
   "end_time": "2022-08-13T07:21:43.766433",
   "environment_variables": {},
   "exception": null,
   "input_path": "__notebook__.ipynb",
   "output_path": "__notebook__.ipynb",
   "parameters": {},
   "start_time": "2022-08-13T07:21:33.352849",
   "version": "2.3.4"
  }
 },
 "nbformat": 4,
 "nbformat_minor": 5
}
