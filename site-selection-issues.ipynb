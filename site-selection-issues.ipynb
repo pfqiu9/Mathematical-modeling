{
 "cells": [
  {
   "cell_type": "markdown",
   "id": "3f5f661c",
   "metadata": {
    "papermill": {
     "duration": 0.00415,
     "end_time": "2022-08-13T01:25:35.883399",
     "exception": false,
     "start_time": "2022-08-13T01:25:35.879249",
     "status": "completed"
    },
    "tags": []
   },
   "source": [
    "# First\n",
    "&emsp;&emsp;The P-median problem assumes that there are N candidate service stations and M demand points, and that P of the N candidate service stations is to be selected such that the sum of the weighted distances dij from all demand points to the nearest service station is minimized. The weight of demand point i, usually, is the demand of that demand point.\n",
    "<center>$\\begin{aligned} \\min & \\sum_{i \\in M} \\sum_{j \\in N} w_{i} d_{i j} y_{i j} \\\\ \\text { s.t.: } &\\left\\{\\begin{array}{l}\\sum_{j \\in N} x_{j}=P \\\\ \\sum_{j \\in N} y_{i j}=1, \\forall i \\\\ y_{i j}-x_{j} \\leq 0, \\forall i, j \\\\ x_{j} \\in\\{0,1\\}, y_{i j} \\in\\{0,1\\}\\end{array}\\right.\\end{aligned}$</center>"
   ]
  },
  {
   "cell_type": "markdown",
   "id": "e04fdb2f",
   "metadata": {
    "papermill": {
     "duration": 0.002699,
     "end_time": "2022-08-13T01:25:35.889212",
     "exception": false,
     "start_time": "2022-08-13T01:25:35.886513",
     "status": "completed"
    },
    "tags": []
   },
   "source": [
    "# Second\n",
    "&emsp;&emsp;P-center problem, suppose there are N candidate service stations and M demand points, to select P from the N candidate service stations so that the maximum distance from any demand point to the nearest service station is minimized.\n",
    "<center>$\\min D$\n",
    "$$\n",
    "\\text { s.t.: }\\left\\{\\begin{array}{l}\n",
    "\\sum_{j \\in N} w_{i} d_{i j} y_{i j} \\leq D, \\forall i \\\\\n",
    "\\sum_{j \\in N} x_{j}=P \\\\\n",
    "\\sum_{j \\in N} y_{i j}=1, \\forall i \\\\\n",
    "y_{i j}-x_{j} \\leq 0, \\forall i, j \\\\\n",
    "x_{j} \\in\\{0,1\\}, y_{i j} \\in\\{0,1\\}\n",
    "\\end{array}\\right.\n",
    "$$</center>"
   ]
  },
  {
   "cell_type": "markdown",
   "id": "6623b469",
   "metadata": {
    "papermill": {
     "duration": 0.002402,
     "end_time": "2022-08-13T01:25:35.894502",
     "exception": false,
     "start_time": "2022-08-13T01:25:35.892100",
     "status": "completed"
    },
    "tags": []
   },
   "source": [
    "# Third\n",
    "&emsp;&emsp;The set coverage problem studies the problem of minimizing the number of service stations or construction costs while satisfying the premise of covering all customers at demand points. Suppose there are N candidate service stations and M demand points, and the service range (or service capacity) of each service station is known, the minimum number of service stations or the minimum cost is required to select several of the N candidate service stations so that all demand points are served (the distance or time to the respective service station is less than a given threshold).\n",
    "<center>$\\min \\sum_{j \\in N} c_{j} x_{j}$\n",
    "    <center>\n",
    "s.t. $:\\left\\{\\begin{array}{l}\\sum_{j \\in N_{i}} x_{j} \\geq 1, \\forall i \\in M \\\\ x_{j} \\in\\{0,1\\}\\end{array}\\right.$</center></center>"
   ]
  },
  {
   "cell_type": "markdown",
   "id": "2b3d7055",
   "metadata": {
    "papermill": {
     "duration": 0.003234,
     "end_time": "2022-08-13T01:25:35.900414",
     "exception": false,
     "start_time": "2022-08-13T01:25:35.897180",
     "status": "completed"
    },
    "tags": []
   },
   "source": [
    "# Forth\n",
    "&emsp;&emsp;The maximum coverage problem investigates how to set up P service stations to maximize the acceptable service demand given a known number of service stations and service radius.\n",
    "<center>$\\begin{aligned} \\max & \\sum_{i \\in N_{i}} w_{i} z_{i} \\\\ \\text { s.t.: } &\\left\\{\\begin{array}{l}z_{i} \\leq \\sum_{j \\in N_{i}} x_{j}, \\forall i \\in M \\\\ \\sum_{j \\in M} x_{j}=p \\\\ x_{j} \\in\\{0,1\\}, z_{i} \\in\\{0,1\\}\\end{array}\\right.\\end{aligned}$</center>"
   ]
  },
  {
   "cell_type": "markdown",
   "id": "a8dbc5b4",
   "metadata": {
    "papermill": {
     "duration": 0.003805,
     "end_time": "2022-08-13T01:25:35.908054",
     "exception": false,
     "start_time": "2022-08-13T01:25:35.904249",
     "status": "completed"
    },
    "tags": []
   },
   "source": [
    "# Example one\n",
    "team\\program | Freestyle | breaststroke | butterfly stroke | backstroke\n",
    "--|--|--|--|--\n",
    "A | 56 | 74 | 61 | 63\n",
    "B | 63 | 69 | 65 | 71\n",
    "C | 57 | 77 | 63 | 67\n",
    "D | 55 | 76 | 62 | 62\n",
    "\n",
    "How to arrange A, B, C, D four athletes to swim, the most likely to achieve good results?\n",
    "<center>$\\begin{aligned} \\min & f(x)=\\sum_{i=1}^{n} \\sum_{j=1}^{n}\\left(c_{i j} x_{i j}\\right) \\\\ s . t .:\\left\\{\\begin{array}{l}\\sum_{j=1}^{n} x_{i j}=1, i=1, \\ldots, n \\\\ \\sum_{i=1}^{n} x_{i j}=1, j=1, \\ldots, n \\\\ x_{i j}=0,1, i, j=1, \\ldots, n\\end{array}\\right.\\\\ c_{i, j}=\\left(\\begin{array}{cccc}56 & 74 & 61 & 63 \\\\ 63 & 69 & 65 & 71 \\\\ 57 & 77 & 63 & 67 \\\\ 55 & 76 & 62 & 62\\end{array}\\right) \\end{aligned}$</center>"
   ]
  },
  {
   "cell_type": "code",
   "execution_count": 1,
   "id": "3ff11528",
   "metadata": {
    "execution": {
     "iopub.execute_input": "2022-08-13T01:25:35.919285Z",
     "iopub.status.busy": "2022-08-13T01:25:35.918509Z",
     "iopub.status.idle": "2022-08-13T01:25:36.105972Z",
     "shell.execute_reply": "2022-08-13T01:25:36.104547Z"
    },
    "papermill": {
     "duration": 0.196616,
     "end_time": "2022-08-13T01:25:36.109243",
     "exception": false,
     "start_time": "2022-08-13T01:25:35.912627",
     "status": "completed"
    },
    "tags": []
   },
   "outputs": [
    {
     "name": "stdout",
     "output_type": "stream",
     "text": [
      "Welcome to the CBC MILP Solver \n",
      "Version: 2.10.3 \n",
      "Build Date: Dec 15 2019 \n",
      "\n",
      "command line - /opt/conda/lib/python3.7/site-packages/pulp/apis/../solverdir/cbc/linux/64/cbc /tmp/3e989a9bcb844197bc02715bef19b8cb-pulp.mps timeMode elapsed branch printingOptions all solution /tmp/3e989a9bcb844197bc02715bef19b8cb-pulp.sol (default strategy 1)\n",
      "At line 2 NAME          MODEL\n",
      "At line 3 ROWS\n",
      "At line 13 COLUMNS\n",
      "At line 94 RHS\n",
      "At line 103 BOUNDS\n",
      "At line 120 ENDATA\n",
      "Problem MODEL has 8 rows, 16 columns and 32 elements\n",
      "Coin0008I MODEL read with 0 errors\n",
      "Option for timeMode changed from cpu to elapsed\n",
      "Continuous objective value is 249 - 0.00 seconds\n",
      "Cgl0004I processed model has 8 rows, 16 columns (16 integer (16 of which binary)) and 32 elements\n",
      "Cutoff increment increased from 1e-05 to 0.9999\n",
      "Cbc0038I Initial state - 0 integers unsatisfied sum - 0\n",
      "Cbc0038I Solution found of 249\n",
      "Cbc0038I Before mini branch and bound, 16 integers at bound fixed and 0 continuous\n",
      "Cbc0038I Mini branch and bound did not improve solution (0.01 seconds)\n",
      "Cbc0038I After 0.01 seconds - Feasibility pump exiting with objective of 249 - took 0.00 seconds\n",
      "Cbc0012I Integer solution of 249 found by feasibility pump after 0 iterations and 0 nodes (0.01 seconds)\n",
      "Cbc0001I Search completed - best objective 249, took 0 iterations and 0 nodes (0.01 seconds)\n",
      "Cbc0035I Maximum depth 0, 0 variables fixed on reduced cost\n",
      "Cuts at root node changed objective from 249 to 249\n",
      "Probing was tried 0 times and created 0 cuts of which 0 were active after adding rounds of cuts (0.000 seconds)\n",
      "Gomory was tried 0 times and created 0 cuts of which 0 were active after adding rounds of cuts (0.000 seconds)\n",
      "Knapsack was tried 0 times and created 0 cuts of which 0 were active after adding rounds of cuts (0.000 seconds)\n",
      "Clique was tried 0 times and created 0 cuts of which 0 were active after adding rounds of cuts (0.000 seconds)\n",
      "MixedIntegerRounding2 was tried 0 times and created 0 cuts of which 0 were active after adding rounds of cuts (0.000 seconds)\n",
      "FlowCover was tried 0 times and created 0 cuts of which 0 were active after adding rounds of cuts (0.000 seconds)\n",
      "TwoMirCuts was tried 0 times and created 0 cuts of which 0 were active after adding rounds of cuts (0.000 seconds)\n",
      "ZeroHalf was tried 0 times and created 0 cuts of which 0 were active after adding rounds of cuts (0.000 seconds)\n",
      "\n",
      "Result - Optimal solution found\n",
      "\n",
      "Objective value:                249.00000000\n",
      "Enumerated nodes:               0\n",
      "Total iterations:               0\n",
      "Time (CPU seconds):             0.00\n",
      "Time (Wallclock seconds):       0.01\n",
      "\n",
      "Option for printingOptions changed from normal to all\n",
      "Total time (CPU seconds):       0.00   (Wallclock seconds):       0.02\n",
      "\n",
      "Assignment_problem_for_swimming_relay_race\n",
      "The best is：\n",
      "[0. 0. 1. 0.]\tA program：c\n",
      "[0. 1. 0. 0.]\tB program：b\n",
      "[1. 0. 0. 0.]\tC program：a\n",
      "[0. 0. 0. 1.]\tD program：d\n",
      "The best score is：249.0\n"
     ]
    }
   ],
   "source": [
    "import pulp      \n",
    "import numpy as np\n",
    "\n",
    "def main():\n",
    "   \n",
    "    AssignLP = pulp.LpProblem(\"Assignment_problem_for_swimming_relay_race\", sense=pulp.LpMinimize) \n",
    "   \n",
    "    rows = cols = range(0, 4)\n",
    "    x = pulp.LpVariable.dicts(\"x\", (rows, cols), cat=\"Binary\")\n",
    "   \n",
    "    scoreM = [[56,74,61,63],[63,69,65,71],[57,77,63,67],[55,76,62,62]]\n",
    "    AssignLP += pulp.lpSum([[x[row][col]*scoreM[row][col] for row in rows] for col in cols])\n",
    "  \n",
    "    for row in rows:\n",
    "        AssignLP += pulp.lpSum([x[row][col] for col in cols]) == 1 # sum(x(i,j),j=1,4)=1, i=1,4\n",
    "    for col in cols:\n",
    "        AssignLP += pulp.lpSum([x[row][col] for row in rows]) == 1 # sum(x(i,j),i=1,4)=1, j=1,4\n",
    "   \n",
    "    AssignLP.solve()  \n",
    "   \n",
    "    print(AssignLP.name)\n",
    "    member = [\"A\",\"B\",\"C\",\"D\"]\n",
    "    style = [\"a\",\"b\",\"c\",\"d\"]\n",
    "    if pulp.LpStatus[AssignLP.status] == \"Optimal\":  \n",
    "        xValue = [v.varValue for v in AssignLP.variables()]\n",
    "        # [0.0, 0.0, 1.0, 0.0, 0.0, 1.0, 0.0, 0.0, 1.0, 0.0, 0.0, 0.0, 0.0, 0.0, 0.0, 1.0]\n",
    "        xOpt = np.array(xValue).reshape((4, 4))  \n",
    "        print(\"The best is：\" )\n",
    "        for row in rows:\n",
    "            print(\"{}\\t{} program：{}\".format(xOpt[row],member[row],style[np.argmax(xOpt[row])]))\n",
    "        print(\"The best score is：{}\".format(pulp.value(AssignLP.objective)))\n",
    "\n",
    "    return\n",
    "\n",
    "if __name__ == '__main__':  \n",
    "    main()  "
   ]
  },
  {
   "cell_type": "markdown",
   "id": "d4898322",
   "metadata": {
    "papermill": {
     "duration": 0.002556,
     "end_time": "2022-08-13T01:25:36.114781",
     "exception": false,
     "start_time": "2022-08-13T01:25:36.112225",
     "status": "completed"
    },
    "tags": []
   },
   "source": [
    "# Example two\n",
    "&emsp;&emsp;There are 8 districts in a city and each district has at most one fire station. The maximum time from the proposed fire station to each district is shown in the table below. It is required that fire engines can arrive in any district within 10 minutes in case of fire. Which districts should the fire stations be built in to minimize the number of fire stations under these conditions?\n",
    "\n",
    "region | 1 | 2 | 3 | 4 | 5 | 6 | 7 | 8\n",
    "--|--|--|--|--|--|--|--|--\n",
    "1 | 7 | 12 | 18 | 20 | 24 | 26 | 25 | 28\n",
    "2 | 14 | 5 | 8 | 15 | 16 | 18 | 18 | 18\n",
    "3 | 19 | 9 | 4 | 14 | 10 | 22 | 16 | 13\n",
    "4 | 14 | 15 | 15 | 10 | 18 | 15 | 14 | 18\n",
    "5 | 20 | 18 | 12 | 20 | 9 | 25 | 14 | 12\n",
    "6 | 18 | 21 | 20 | 16 | 20 | 6 | 10 | 1 \n",
    "7 | 22 | 18 | 20 | 15 | 16 | 15 | 5 | 9\n",
    "8 | 30 | 22 | 15 | 20 | 14 | 18 | 8 | 6\n",
    "\n",
    "### Solution\n",
    "<center>$\\min f(x)=\\sum_{j=1}^{8} x_{j}$\n",
    "s.t. : $\\begin{cases}\\sum_{j=1}^{8} x_{j} R_{i j} \\geq 1, & i=1, . .8 \\\\ x_{j} \\in\\{0,1\\}, & j=1, \\ldots 8\\end{cases}$</center>"
   ]
  },
  {
   "cell_type": "code",
   "execution_count": 2,
   "id": "162f7d8b",
   "metadata": {
    "execution": {
     "iopub.execute_input": "2022-08-13T01:25:36.122488Z",
     "iopub.status.busy": "2022-08-13T01:25:36.122029Z",
     "iopub.status.idle": "2022-08-13T01:25:36.157487Z",
     "shell.execute_reply": "2022-08-13T01:25:36.154768Z"
    },
    "papermill": {
     "duration": 0.043102,
     "end_time": "2022-08-13T01:25:36.160592",
     "exception": false,
     "start_time": "2022-08-13T01:25:36.117490",
     "status": "completed"
    },
    "tags": []
   },
   "outputs": [
    {
     "name": "stdout",
     "output_type": "stream",
     "text": [
      "Welcome to the CBC MILP Solver \n",
      "Version: 2.10.3 \n",
      "Build Date: Dec 15 2019 \n",
      "\n",
      "command line - /opt/conda/lib/python3.7/site-packages/pulp/apis/../solverdir/cbc/linux/64/cbc /tmp/75eca0fb5ce340bbabf3f41f5a45df1a-pulp.mps timeMode elapsed branch printingOptions all solution /tmp/75eca0fb5ce340bbabf3f41f5a45df1a-pulp.sol (default strategy 1)\n",
      "At line 2 NAME          MODEL\n",
      "At line 3 ROWS\n",
      "At line 13 COLUMNS\n",
      "At line 52 RHS\n",
      "At line 61 BOUNDS\n",
      "At line 70 ENDATA\n",
      "Problem MODEL has 8 rows, 8 columns and 14 elements\n",
      "Coin0008I MODEL read with 0 errors\n",
      "Option for timeMode changed from cpu to elapsed\n",
      "Continuous objective value is 5 - 0.00 seconds\n",
      "Cgl0004I processed model has 2 rows, 3 columns (3 integer (3 of which binary)) and 4 elements\n",
      "Cutoff increment increased from 1e-05 to 0.9999\n",
      "Cbc0038I Initial state - 0 integers unsatisfied sum - 0\n",
      "Cbc0038I Solution found of 5\n",
      "Cbc0038I Before mini branch and bound, 3 integers at bound fixed and 0 continuous\n",
      "Cbc0038I Mini branch and bound did not improve solution (0.00 seconds)\n",
      "Cbc0038I After 0.00 seconds - Feasibility pump exiting with objective of 5 - took 0.00 seconds\n",
      "Cbc0012I Integer solution of 5 found by feasibility pump after 0 iterations and 0 nodes (0.00 seconds)\n",
      "Cbc0001I Search completed - best objective 5, took 0 iterations and 0 nodes (0.00 seconds)\n",
      "Cbc0035I Maximum depth 0, 0 variables fixed on reduced cost\n",
      "Cuts at root node changed objective from 5 to 5\n",
      "Probing was tried 0 times and created 0 cuts of which 0 were active after adding rounds of cuts (0.000 seconds)\n",
      "Gomory was tried 0 times and created 0 cuts of which 0 were active after adding rounds of cuts (0.000 seconds)\n",
      "Knapsack was tried 0 times and created 0 cuts of which 0 were active after adding rounds of cuts (0.000 seconds)\n",
      "Clique was tried 0 times and created 0 cuts of which 0 were active after adding rounds of cuts (0.000 seconds)\n",
      "MixedIntegerRounding2 was tried 0 times and created 0 cuts of which 0 were active after adding rounds of cuts (0.000 seconds)\n",
      "FlowCover was tried 0 times and created 0 cuts of which 0 were active after adding rounds of cuts (0.000 seconds)\n",
      "TwoMirCuts was tried 0 times and created 0 cuts of which 0 were active after adding rounds of cuts (0.000 seconds)\n",
      "ZeroHalf was tried 0 times and created 0 cuts of which 0 were active after adding rounds of cuts (0.000 seconds)\n",
      "\n",
      "Result - Optimal solution found\n",
      "\n",
      "Objective value:                5.00000000\n",
      "Enumerated nodes:               0\n",
      "Total iterations:               0\n",
      "Time (CPU seconds):             0.00\n",
      "Time (Wallclock seconds):       0.00\n",
      "\n",
      "Option for printingOptions changed from normal to all\n",
      "Total time (CPU seconds):       0.00   (Wallclock seconds):       0.00\n",
      "\n",
      "SetCover_problem_for_fire_station\n",
      "The decison of region 1 is：built\n",
      "The decison of region 2 is：--\n",
      "The decison of region 3 is：built\n",
      "The decison of region 4 is：built\n",
      "The decison of region 5 is：--\n",
      "The decison of region 6 is：built\n",
      "The decison of region 7 is：built\n",
      "The decison of region 8 is：--\n",
      "We need to bulid 5.0 fire stations。\n"
     ]
    }
   ],
   "source": [
    "import pulp    \n",
    "\n",
    "def main():\n",
    "\n",
    "    SetCoverLP = pulp.LpProblem(\"SetCover_problem_for_fire_station\", sense=pulp.LpMinimize)  # Define the problem and find the minimum value\n",
    "    \n",
    "    zones = list(range(8))  \n",
    "    x = pulp.LpVariable.dicts(\"zone\", zones, cat=\"Binary\")  # Define 0/1 variable, whether to have a fire station in the area\n",
    "    SetCoverLP += pulp.lpSum([x[j] for j in range(8)])  \n",
    "    reachable = [[1, 0, 0, 0, 0, 0, 0, 0],\n",
    "                 [0, 1, 1, 0, 0, 0, 0, 0],\n",
    "                 [0, 1, 1, 0, 1, 0, 0, 0],\n",
    "                 [0, 0, 0, 1, 0, 0, 0, 0],\n",
    "                 [0, 0, 0, 0, 1, 0, 0, 0],\n",
    "                 [0, 0, 0, 0, 0, 1, 1, 0],\n",
    "                 [0, 0, 0, 0, 0, 0, 1, 1],\n",
    "                 [0, 0, 0, 0, 0, 0, 1, 1]]  # Parameter matrix, whether the i-th fire station can reach the j-th area within 10 minutes\n",
    "    for i in range(8):\n",
    "        SetCoverLP += pulp.lpSum([x[j]*reachable[j][i] for j in range(8)]) >= 1\n",
    "\n",
    "    SetCoverLP.solve()\n",
    "    print(SetCoverLP.name)\n",
    "    temple = \"The decison of region %(zone)d is：%(status)s\"  \n",
    "    if pulp.LpStatus[SetCoverLP.status] == \"Optimal\":  # Obtaining the optimal solution\n",
    "        for i in range(8):\n",
    "            output = {'zone': i+1,  \n",
    "                      'status': 'built' if x[i].varValue else '--'}\n",
    "            print(temple % output)\n",
    "        print(\"We need to bulid {} fire stations。\".format(pulp.value(SetCoverLP.objective)))\n",
    "\n",
    "    return\n",
    "\n",
    "if __name__ == '__main__':  \n",
    "    main()  "
   ]
  }
 ],
 "metadata": {
  "kernelspec": {
   "display_name": "Python 3",
   "language": "python",
   "name": "python3"
  },
  "language_info": {
   "codemirror_mode": {
    "name": "ipython",
    "version": 3
   },
   "file_extension": ".py",
   "mimetype": "text/x-python",
   "name": "python",
   "nbconvert_exporter": "python",
   "pygments_lexer": "ipython3",
   "version": "3.7.12"
  },
  "papermill": {
   "default_parameters": {},
   "duration": 10.728699,
   "end_time": "2022-08-13T01:25:36.987106",
   "environment_variables": {},
   "exception": null,
   "input_path": "__notebook__.ipynb",
   "output_path": "__notebook__.ipynb",
   "parameters": {},
   "start_time": "2022-08-13T01:25:26.258407",
   "version": "2.3.4"
  }
 },
 "nbformat": 4,
 "nbformat_minor": 5
}
